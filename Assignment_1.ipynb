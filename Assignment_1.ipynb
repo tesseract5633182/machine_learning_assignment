{
 "cells": [
  {
   "cell_type": "markdown",
   "id": "3ac502d9",
   "metadata": {},
   "source": [
    "Question Bank: https://drive.google.com/file/d/14tdTD4OqanGZF_vUzcitWO25QAXnHyT_/view"
   ]
  },
  {
   "cell_type": "markdown",
   "id": "512d5c69",
   "metadata": {},
   "source": [
    "<b>Q.1 What does one mean by the term &quot;machine learning&quot;?"
   ]
  },
  {
   "cell_type": "markdown",
   "id": "92f9f725",
   "metadata": {},
   "source": [
    "Ans : machine learning is a field of AI, where we try to get insights into the data using Mathematics. This can be used to create many powerful algorithms which can later see data and provide required action"
   ]
  },
  {
   "cell_type": "markdown",
   "id": "bace93df",
   "metadata": {},
   "source": [
    "<b>Q.2 Can you think of 4 distinct types of issues where it shines?"
   ]
  },
  {
   "cell_type": "markdown",
   "id": "89c55c6e",
   "metadata": {},
   "source": [
    "Ans: Machine learning can used in Sequence problmes, time series problems, Natural language processing, computer vision"
   ]
  },
  {
   "cell_type": "markdown",
   "id": "6ba78350",
   "metadata": {},
   "source": [
    "<b>Q3.What is a labeled training set, and how does it work?"
   ]
  },
  {
   "cell_type": "markdown",
   "id": "0585abbf",
   "metadata": {},
   "source": [
    "Ans:- Labeled training set is a dateset that has the target specified, generally this is what we predict using machine learning algorithms. This is called supervised learning where the machine learning algorithms uses this to find the error or loss or any other evaluation metric"
   ]
  },
  {
   "cell_type": "markdown",
   "id": "a50948ed",
   "metadata": {},
   "source": [
    "<b>Q.4.What are the two most important tasks that are supervised?"
   ]
  },
  {
   "cell_type": "markdown",
   "id": "9abfd504",
   "metadata": {},
   "source": [
    "Ans : Regression and classification tasks"
   ]
  },
  {
   "cell_type": "markdown",
   "id": "7b42b5f8",
   "metadata": {},
   "source": [
    "<b>Q.5 5.Can you think of four examples of unsupervised tasks?"
   ]
  },
  {
   "cell_type": "markdown",
   "id": "47caef6f",
   "metadata": {},
   "source": [
    "Ans : Centroid-based Clustering, Density-based Clustering, Distribution-based Clustering, Hierarchical Clustering."
   ]
  },
  {
   "cell_type": "markdown",
   "id": "650ac06d",
   "metadata": {},
   "source": [
    "<b>Q.6 6.State the machine learning model that would be best to make a robot walk through various\n",
    "unfamiliar terrains?"
   ]
  },
  {
   "cell_type": "markdown",
   "id": "10f0b505",
   "metadata": {},
   "source": [
    "Ans : Reinforced machine learning algorithms"
   ]
  },
  {
   "cell_type": "markdown",
   "id": "42d9f88d",
   "metadata": {},
   "source": [
    "<b>Q7.Which algorithm will you use to divide your customers into different groups?"
   ]
  },
  {
   "cell_type": "markdown",
   "id": "61672182",
   "metadata": {},
   "source": [
    "Ans :- Clustering algorithms like K-means, DBSCAN etc"
   ]
  },
  {
   "cell_type": "markdown",
   "id": "6e4b9ba6",
   "metadata": {},
   "source": [
    "<b>Q8.Will you consider the problem of spam detection to be a supervised or unsupervised learning\n",
    "problem?"
   ]
  },
  {
   "cell_type": "markdown",
   "id": "d47218ec",
   "metadata": {},
   "source": [
    "Ans :- Supervised"
   ]
  },
  {
   "cell_type": "markdown",
   "id": "f284bd02",
   "metadata": {},
   "source": [
    "<b>Q.9.What is the concept of an online learning system?"
   ]
  },
  {
   "cell_type": "markdown",
   "id": "1651be78",
   "metadata": {},
   "source": [
    "Ans :- online machine learning is a method of machine learning in which data becomes available in a sequential order and is used to update the best predictor for future data at each step"
   ]
  },
  {
   "cell_type": "markdown",
   "id": "8aab3fc1",
   "metadata": {},
   "source": [
    "<b>Q.10.What is out-of-core learning, and how does it differ from core learning?"
   ]
  },
  {
   "cell_type": "markdown",
   "id": "b09ed2a1",
   "metadata": {},
   "source": [
    "Ans :- Out-of-core leanring refers to the machine learning algorithms working with data cannot fit into the memory of a single machine, but that can easily fit into some data storage such as local hard disk or web repository. In out-of-core learning only that data is fed to the algorith which needs to be processed currently. In Core learning the entire data is loaded in the ram and then it is used for processing"
   ]
  },
  {
   "cell_type": "markdown",
   "id": "d6734faf",
   "metadata": {},
   "source": [
    "<b>Q.11.What kind of learning algorithm makes predictions using a similarity measure?"
   ]
  },
  {
   "cell_type": "markdown",
   "id": "e4f0920d",
   "metadata": {},
   "source": [
    "Ans :- Distance based algorithms like KNN, Kd tree, LOF etc"
   ]
  },
  {
   "cell_type": "markdown",
   "id": "c5c4adb8",
   "metadata": {},
   "source": [
    "<b>Q12.What&#39;s the difference between a model parameter and a hyperparameter in a learning\n",
    "algorithm?"
   ]
  },
  {
   "cell_type": "markdown",
   "id": "03dac965",
   "metadata": {},
   "source": [
    "Ans :- The parameter that can be changed to make the algorithm learn better are called hyperparameters, every hyperparameter is a parameter. Parameters are the values that can be changed in an algorithm"
   ]
  },
  {
   "cell_type": "markdown",
   "id": "5cb3597d",
   "metadata": {},
   "source": [
    "<b>Q13.What are the criteria that model-based learning algorithms look for? What is the most popular\n",
    "method they use to achieve success? What method do they use to make predictions?"
   ]
  },
  {
   "cell_type": "markdown",
   "id": "dfa84b83",
   "metadata": {},
   "source": [
    "Ans :- The goal for a model-based algorithm is to be able to generalize to new examples. To do this, model based algorithms search for optimal values for the model's parameters, often called theta . This searching, or \"learning\", is what machine learning is all about. Hyperparameter tuning of the model can be used to achieve this task."
   ]
  },
  {
   "cell_type": "markdown",
   "id": "5055119c",
   "metadata": {},
   "source": [
    "<b>Q14.Can you name four of the most important Machine Learning challenges?"
   ]
  },
  {
   "cell_type": "markdown",
   "id": "27fd69b4",
   "metadata": {},
   "source": [
    "Ans: Overfitting and underfitting, Data collection, and irrelavent features"
   ]
  },
  {
   "cell_type": "markdown",
   "id": "d70b4785",
   "metadata": {},
   "source": [
    "<b>Q15.What happens if the model performs well on the training data but fails to generalize the results\n",
    "to new situations? Can you think of three different options?"
   ]
  },
  {
   "cell_type": "markdown",
   "id": "9af2c973",
   "metadata": {},
   "source": [
    "Ans :- If the model performs poorly to new instances, then it has overfit on the training data. To solve this, we can do any of the following three: get more data, implement a simpler model, or eliminate outliers or noise from the existing data set or use feature transformation techniques"
   ]
  },
  {
   "cell_type": "markdown",
   "id": "9252116f",
   "metadata": {},
   "source": [
    "<b>Q16.What exactly is a test set, and why would you need one?"
   ]
  },
  {
   "cell_type": "markdown",
   "id": "93019aea",
   "metadata": {},
   "source": [
    "Ans : This data is needed to check and understand how well the model can generalize, i.e. it helps us to tune the model so that the generelization of the model is better"
   ]
  },
  {
   "cell_type": "markdown",
   "id": "990aede6",
   "metadata": {},
   "source": [
    "<b>Q.17.What is a validation set&#39;s purpose?"
   ]
  },
  {
   "cell_type": "markdown",
   "id": "55c101e8",
   "metadata": {},
   "source": [
    "Ans :- After training the model the validation set can be used to check how well the model will perform on the unseen or future data"
   ]
  },
  {
   "cell_type": "markdown",
   "id": "be53f5fd",
   "metadata": {},
   "source": [
    "<b>Q18.What precisely is the train-dev kit, when will you need it, how do you put it to use?"
   ]
  },
  {
   "cell_type": "markdown",
   "id": "75817d3f",
   "metadata": {},
   "source": [
    "Ans :- It is used to do hyperparameter tuning of the models, it is used make model generalization better, we can use grid search cv or random search cv to achieve this task"
   ]
  },
  {
   "cell_type": "markdown",
   "id": "29ea9b52",
   "metadata": {},
   "source": [
    "<b>Q19.What could go wrong if you use the test set to tune hyperparameters?"
   ]
  },
  {
   "cell_type": "markdown",
   "id": "65dd923f",
   "metadata": {},
   "source": [
    "Ans : - The model will perform poorly on unseen or future data"
   ]
  },
  {
   "cell_type": "code",
   "execution_count": null,
   "id": "682875fc",
   "metadata": {},
   "outputs": [],
   "source": []
  }
 ],
 "metadata": {
  "kernelspec": {
   "display_name": "Python 3 (ipykernel)",
   "language": "python",
   "name": "python3"
  },
  "language_info": {
   "codemirror_mode": {
    "name": "ipython",
    "version": 3
   },
   "file_extension": ".py",
   "mimetype": "text/x-python",
   "name": "python",
   "nbconvert_exporter": "python",
   "pygments_lexer": "ipython3",
   "version": "3.9.7"
  }
 },
 "nbformat": 4,
 "nbformat_minor": 5
}
